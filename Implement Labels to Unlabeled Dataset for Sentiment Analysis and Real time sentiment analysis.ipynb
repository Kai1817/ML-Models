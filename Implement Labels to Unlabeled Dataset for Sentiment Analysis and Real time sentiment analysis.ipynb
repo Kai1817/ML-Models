{
 "cells": [
  {
   "cell_type": "markdown",
   "id": "ba8dedd3",
   "metadata": {},
   "source": [
    "## Adding Label to Unlabeled Datasets"
   ]
  },
  {
   "cell_type": "markdown",
   "id": "0b61f2a8",
   "metadata": {},
   "source": [
    "- The data we receive has many errors and occasionally is not labelled, a data scientist must invest a great deal of time in creating a dataset for any given data science assignment. \n",
    "- Before using a dataset to address an issue, it is crucial to add labels to it. \n",
    "- **Sentiment analysis is one of those challenges where labelling a dataset is crucial.** \n",
    "- In this scenario, the data is user reviews or comments, and labelling it is necessary to get it ready for sentiment analysis. Thus, this code is for to learn how to label unlabeled data. I'll walk you how to add labels to a dataset in this file."
   ]
  },
  {
   "cell_type": "markdown",
   "id": "3d903147",
   "metadata": {},
   "source": [
    "**Sentiment analysis** is the branch of natural language processing that allows us to identify whether a text has positive or negative sentiment. \n",
    "- Businesses utilise sentiment analysis to examine consumer perceptions about their goods and services. \n",
    "- Based on the positive and negative feelings, they may use the information to promote their goods and services more effectively and raise the calibre of their goods and services. "
   ]
  },
  {
   "cell_type": "markdown",
   "id": "b1f097a5",
   "metadata": {},
   "source": [
    "The **VADER sentiment model** and the **Naïve Bayes Algorithm** are the two best approaches that is to be prefered when working on the Sentiment Analysis task. \n",
    "- If you are working on a sentiment analysis task where your **dataset does not have sentiment labels, you can use the VADER sentiment model**.\n",
    "- if your **dataset is labelled and your task is to train a classification model to classify the sentiment of a text in real-time, you may prefer the Naïve Bayes algorithm.**"
   ]
  },
  {
   "cell_type": "code",
   "execution_count": 1,
   "id": "84457ea5",
   "metadata": {},
   "outputs": [
    {
     "name": "stderr",
     "output_type": "stream",
     "text": [
      "[nltk_data] Downloading package vader_lexicon to\n",
      "[nltk_data]     C:\\Users\\asus\\AppData\\Roaming\\nltk_data...\n"
     ]
    },
    {
     "data": {
      "text/html": [
       "<div>\n",
       "<style scoped>\n",
       "    .dataframe tbody tr th:only-of-type {\n",
       "        vertical-align: middle;\n",
       "    }\n",
       "\n",
       "    .dataframe tbody tr th {\n",
       "        vertical-align: top;\n",
       "    }\n",
       "\n",
       "    .dataframe thead th {\n",
       "        text-align: right;\n",
       "    }\n",
       "</style>\n",
       "<table border=\"1\" class=\"dataframe\">\n",
       "  <thead>\n",
       "    <tr style=\"text-align: right;\">\n",
       "      <th></th>\n",
       "      <th>Review</th>\n",
       "    </tr>\n",
       "  </thead>\n",
       "  <tbody>\n",
       "    <tr>\n",
       "      <th>0</th>\n",
       "      <td>nice hotel expensive parking got good deal sta...</td>\n",
       "    </tr>\n",
       "    <tr>\n",
       "      <th>1</th>\n",
       "      <td>ok nothing special charge diamond member hilto...</td>\n",
       "    </tr>\n",
       "    <tr>\n",
       "      <th>2</th>\n",
       "      <td>nice rooms not 4* experience hotel monaco seat...</td>\n",
       "    </tr>\n",
       "    <tr>\n",
       "      <th>3</th>\n",
       "      <td>unique, great stay, wonderful time hotel monac...</td>\n",
       "    </tr>\n",
       "    <tr>\n",
       "      <th>4</th>\n",
       "      <td>great stay great stay, went seahawk game aweso...</td>\n",
       "    </tr>\n",
       "  </tbody>\n",
       "</table>\n",
       "</div>"
      ],
      "text/plain": [
       "                                              Review\n",
       "0  nice hotel expensive parking got good deal sta...\n",
       "1  ok nothing special charge diamond member hilto...\n",
       "2  nice rooms not 4* experience hotel monaco seat...\n",
       "3  unique, great stay, wonderful time hotel monac...\n",
       "4  great stay great stay, went seahawk game aweso..."
      ]
     },
     "execution_count": 1,
     "metadata": {},
     "output_type": "execute_result"
    }
   ],
   "source": [
    "import warnings\n",
    "warnings.simplefilter(action='ignore', category=FutureWarning)\n",
    "import nltk\n",
    "from nltk.sentiment.vader import SentimentIntensityAnalyzer\n",
    "nltk.download(\"vader_lexicon\")\n",
    "import pandas as pd\n",
    "data = pd.read_csv(\"C:/Users/asus/OneDrive/Desktop/ML_Datasets/project/More_Projects/Review.csv\")\n",
    "data = data.dropna()\n",
    "data.head()"
   ]
  },
  {
   "cell_type": "markdown",
   "id": "8baaa774",
   "metadata": {},
   "source": [
    "This dataset contains only one column, I will now move to the task of adding labels to the dataset. I will start by adding four new columns to this dataset as Positive, Negative, Neutral, and Compound by calculating the sentiment scores of the column containing textual data:"
   ]
  },
  {
   "cell_type": "code",
   "execution_count": 2,
   "id": "f751e90a",
   "metadata": {},
   "outputs": [
    {
     "data": {
      "text/html": [
       "<div>\n",
       "<style scoped>\n",
       "    .dataframe tbody tr th:only-of-type {\n",
       "        vertical-align: middle;\n",
       "    }\n",
       "\n",
       "    .dataframe tbody tr th {\n",
       "        vertical-align: top;\n",
       "    }\n",
       "\n",
       "    .dataframe thead th {\n",
       "        text-align: right;\n",
       "    }\n",
       "</style>\n",
       "<table border=\"1\" class=\"dataframe\">\n",
       "  <thead>\n",
       "    <tr style=\"text-align: right;\">\n",
       "      <th></th>\n",
       "      <th>Review</th>\n",
       "      <th>Positive</th>\n",
       "      <th>Negative</th>\n",
       "      <th>Neutral</th>\n",
       "      <th>Compound</th>\n",
       "    </tr>\n",
       "  </thead>\n",
       "  <tbody>\n",
       "    <tr>\n",
       "      <th>0</th>\n",
       "      <td>nice hotel expensive parking got good deal sta...</td>\n",
       "      <td>0.285</td>\n",
       "      <td>0.072</td>\n",
       "      <td>0.643</td>\n",
       "      <td>0.9747</td>\n",
       "    </tr>\n",
       "    <tr>\n",
       "      <th>1</th>\n",
       "      <td>ok nothing special charge diamond member hilto...</td>\n",
       "      <td>0.189</td>\n",
       "      <td>0.110</td>\n",
       "      <td>0.701</td>\n",
       "      <td>0.9787</td>\n",
       "    </tr>\n",
       "    <tr>\n",
       "      <th>2</th>\n",
       "      <td>nice rooms not 4* experience hotel monaco seat...</td>\n",
       "      <td>0.219</td>\n",
       "      <td>0.081</td>\n",
       "      <td>0.700</td>\n",
       "      <td>0.9889</td>\n",
       "    </tr>\n",
       "    <tr>\n",
       "      <th>3</th>\n",
       "      <td>unique, great stay, wonderful time hotel monac...</td>\n",
       "      <td>0.385</td>\n",
       "      <td>0.060</td>\n",
       "      <td>0.555</td>\n",
       "      <td>0.9912</td>\n",
       "    </tr>\n",
       "    <tr>\n",
       "      <th>4</th>\n",
       "      <td>great stay great stay, went seahawk game aweso...</td>\n",
       "      <td>0.221</td>\n",
       "      <td>0.135</td>\n",
       "      <td>0.643</td>\n",
       "      <td>0.9797</td>\n",
       "    </tr>\n",
       "  </tbody>\n",
       "</table>\n",
       "</div>"
      ],
      "text/plain": [
       "                                              Review  Positive  Negative  \\\n",
       "0  nice hotel expensive parking got good deal sta...     0.285     0.072   \n",
       "1  ok nothing special charge diamond member hilto...     0.189     0.110   \n",
       "2  nice rooms not 4* experience hotel monaco seat...     0.219     0.081   \n",
       "3  unique, great stay, wonderful time hotel monac...     0.385     0.060   \n",
       "4  great stay great stay, went seahawk game aweso...     0.221     0.135   \n",
       "\n",
       "   Neutral  Compound  \n",
       "0    0.643    0.9747  \n",
       "1    0.701    0.9787  \n",
       "2    0.700    0.9889  \n",
       "3    0.555    0.9912  \n",
       "4    0.643    0.9797  "
      ]
     },
     "execution_count": 2,
     "metadata": {},
     "output_type": "execute_result"
    }
   ],
   "source": [
    "sentiments = SentimentIntensityAnalyzer()\n",
    "data[\"Positive\"] = [sentiments.polarity_scores(i)[\"pos\"] for i in data[\"Review\"]]\n",
    "data[\"Negative\"] = [sentiments.polarity_scores(i)[\"neg\"] for i in data[\"Review\"]]\n",
    "data[\"Neutral\"] = [sentiments.polarity_scores(i)[\"neu\"] for i in data[\"Review\"]]\n",
    "data['Compound'] = [sentiments.polarity_scores(i)[\"compound\"] for i in data[\"Review\"]]\n",
    "data.head()"
   ]
  },
  {
   "cell_type": "markdown",
   "id": "9ae70f42",
   "metadata": {},
   "source": [
    " Now the next task is to add labels by categorizing these scores. \n",
    " - According to the industry standards, if the compound score of sentiment is more than 0.05, then it is categorized as Positive, and if the compound score is less than -0.05, then it is categorized as Negative, otherwise, it’s neutral. \n",
    " - So with this information, I will add a new column in this dataset which will include all the sentiment labels:"
   ]
  },
  {
   "cell_type": "code",
   "execution_count": 3,
   "id": "1d0de954",
   "metadata": {},
   "outputs": [
    {
     "data": {
      "text/html": [
       "<div>\n",
       "<style scoped>\n",
       "    .dataframe tbody tr th:only-of-type {\n",
       "        vertical-align: middle;\n",
       "    }\n",
       "\n",
       "    .dataframe tbody tr th {\n",
       "        vertical-align: top;\n",
       "    }\n",
       "\n",
       "    .dataframe thead th {\n",
       "        text-align: right;\n",
       "    }\n",
       "</style>\n",
       "<table border=\"1\" class=\"dataframe\">\n",
       "  <thead>\n",
       "    <tr style=\"text-align: right;\">\n",
       "      <th></th>\n",
       "      <th>Review</th>\n",
       "      <th>Positive</th>\n",
       "      <th>Negative</th>\n",
       "      <th>Neutral</th>\n",
       "      <th>Compound</th>\n",
       "      <th>Sentiment</th>\n",
       "    </tr>\n",
       "  </thead>\n",
       "  <tbody>\n",
       "    <tr>\n",
       "      <th>0</th>\n",
       "      <td>nice hotel expensive parking got good deal sta...</td>\n",
       "      <td>0.285</td>\n",
       "      <td>0.072</td>\n",
       "      <td>0.643</td>\n",
       "      <td>0.9747</td>\n",
       "      <td>Positive</td>\n",
       "    </tr>\n",
       "    <tr>\n",
       "      <th>1</th>\n",
       "      <td>ok nothing special charge diamond member hilto...</td>\n",
       "      <td>0.189</td>\n",
       "      <td>0.110</td>\n",
       "      <td>0.701</td>\n",
       "      <td>0.9787</td>\n",
       "      <td>Positive</td>\n",
       "    </tr>\n",
       "    <tr>\n",
       "      <th>2</th>\n",
       "      <td>nice rooms not 4* experience hotel monaco seat...</td>\n",
       "      <td>0.219</td>\n",
       "      <td>0.081</td>\n",
       "      <td>0.700</td>\n",
       "      <td>0.9889</td>\n",
       "      <td>Positive</td>\n",
       "    </tr>\n",
       "    <tr>\n",
       "      <th>3</th>\n",
       "      <td>unique, great stay, wonderful time hotel monac...</td>\n",
       "      <td>0.385</td>\n",
       "      <td>0.060</td>\n",
       "      <td>0.555</td>\n",
       "      <td>0.9912</td>\n",
       "      <td>Positive</td>\n",
       "    </tr>\n",
       "    <tr>\n",
       "      <th>4</th>\n",
       "      <td>great stay great stay, went seahawk game aweso...</td>\n",
       "      <td>0.221</td>\n",
       "      <td>0.135</td>\n",
       "      <td>0.643</td>\n",
       "      <td>0.9797</td>\n",
       "      <td>Positive</td>\n",
       "    </tr>\n",
       "  </tbody>\n",
       "</table>\n",
       "</div>"
      ],
      "text/plain": [
       "                                              Review  Positive  Negative  \\\n",
       "0  nice hotel expensive parking got good deal sta...     0.285     0.072   \n",
       "1  ok nothing special charge diamond member hilto...     0.189     0.110   \n",
       "2  nice rooms not 4* experience hotel monaco seat...     0.219     0.081   \n",
       "3  unique, great stay, wonderful time hotel monac...     0.385     0.060   \n",
       "4  great stay great stay, went seahawk game aweso...     0.221     0.135   \n",
       "\n",
       "   Neutral  Compound Sentiment  \n",
       "0    0.643    0.9747  Positive  \n",
       "1    0.701    0.9787  Positive  \n",
       "2    0.700    0.9889  Positive  \n",
       "3    0.555    0.9912  Positive  \n",
       "4    0.643    0.9797  Positive  "
      ]
     },
     "execution_count": 3,
     "metadata": {},
     "output_type": "execute_result"
    }
   ],
   "source": [
    "score = data[\"Compound\"].values\n",
    "sentiment = []\n",
    "for i in score:\n",
    "    if i >= 0.05 :\n",
    "        sentiment.append('Positive')\n",
    "    elif i <= -0.05 :\n",
    "        sentiment.append('Negative')\n",
    "    else:\n",
    "        sentiment.append('Neutral')\n",
    "data[\"Sentiment\"] = sentiment\n",
    "data.head()"
   ]
  },
  {
   "cell_type": "code",
   "execution_count": 4,
   "id": "bb150117",
   "metadata": {},
   "outputs": [
    {
     "name": "stdout",
     "output_type": "stream",
     "text": [
      "Sentiment\n",
      "Positive    18831\n",
      "Negative     1569\n",
      "Neutral        91\n",
      "Name: count, dtype: int64\n"
     ]
    }
   ],
   "source": [
    "print(data[\"Sentiment\"].value_counts())"
   ]
  },
  {
   "cell_type": "markdown",
   "id": "a85b1b5b",
   "metadata": {},
   "source": [
    "- The Review column was the only initial column in the dataset, we added four columns containing the sentiment scores, and at last, we added a new column containing labels according to the sentiment scores. If you only want the text and label columns, you can remove all other columns and save your dataset. \n",
    "\n",
    "**this is how you can add labels to an unlabeled dataset for sentiment analysis using the Python programming language.**"
   ]
  },
  {
   "cell_type": "markdown",
   "id": "fc678c3d",
   "metadata": {},
   "source": [
    "## Real-Time Sentiment Analysis"
   ]
  },
  {
   "cell_type": "markdown",
   "id": "847a450a",
   "metadata": {},
   "source": [
    "**Sentiment analysis's** primary goal is to examine user reviews of a specific good or service in order to better inform potential buyers about the product's calibre. \n",
    "- Every time Apple launches a new iPhone, for instance, we see a lot of people expressing their thoughts about it; some like it, some don't, but ultimately, all of these viewpoints help us determine whether or not we should purchase the new iPhone."
   ]
  },
  {
   "cell_type": "markdown",
   "id": "0bc6f3eb",
   "metadata": {},
   "source": [
    "**What if you want to analyze people’s feelings in real-time ?** i.e. ask a user about your product and understand your product in real-time. "
   ]
  },
  {
   "cell_type": "markdown",
   "id": "9879d401",
   "metadata": {},
   "source": [
    "- To analyze feelings in real-time, we need to request input from the user and then analyze user feelings given by him/her as input. So for this real-time sentiment analysis task using Python, I will be using the **NLTK library in Python** which is a very useful tool for all the tasks of natural language processing."
   ]
  },
  {
   "cell_type": "code",
   "execution_count": 5,
   "id": "b8f59592",
   "metadata": {},
   "outputs": [
    {
     "name": "stderr",
     "output_type": "stream",
     "text": [
      "[nltk_data] Downloading package vader_lexicon to\n",
      "[nltk_data]     C:\\Users\\asus\\AppData\\Roaming\\nltk_data...\n",
      "[nltk_data]   Package vader_lexicon is already up-to-date!\n"
     ]
    },
    {
     "name": "stdout",
     "output_type": "stream",
     "text": [
      "Please Rate Our Services >>: its great\n"
     ]
    },
    {
     "data": {
      "text/plain": [
       "{'neg': 0.0, 'neu': 0.196, 'pos': 0.804, 'compound': 0.6249}"
      ]
     },
     "execution_count": 5,
     "metadata": {},
     "output_type": "execute_result"
    }
   ],
   "source": [
    "from nltk.sentiment.vader import SentimentIntensityAnalyzer\n",
    "import nltk\n",
    "nltk.download('vader_lexicon')\n",
    "user_input = input(\"Please Rate Our Services >>: \")\n",
    "sid = SentimentIntensityAnalyzer()\n",
    "score = sid.polarity_scores(user_input)\n",
    "score"
   ]
  },
  {
   "cell_type": "markdown",
   "id": "e7916e72",
   "metadata": {},
   "source": [
    "So the sentiments score looks like a dictionary with keys as ‘neg’, ‘neu’, ‘pos’, ‘compound’. The above output says that the sentiment of the user is 80.4% positive and 19.6% neutral ."
   ]
  },
  {
   "cell_type": "markdown",
   "id": "d421aa93",
   "metadata": {},
   "source": [
    "So here is the complete Python code for real-time sentiment analysis:"
   ]
  },
  {
   "cell_type": "code",
   "execution_count": 6,
   "id": "82250b0d",
   "metadata": {},
   "outputs": [
    {
     "name": "stdout",
     "output_type": "stream",
     "text": [
      "Please Rate Our Services >>: its really good\n",
      "Positive\n"
     ]
    }
   ],
   "source": [
    "user_input = input(\"Please Rate Our Services >>: \")\n",
    "sid = SentimentIntensityAnalyzer()\n",
    "score = sid.polarity_scores(user_input)\n",
    "if score[\"neg\"] != 0:\n",
    "      print(\"Negative\")\n",
    "else:\n",
    "      print(\"Positive\")"
   ]
  },
  {
   "cell_type": "markdown",
   "id": "c2b0dd2f",
   "metadata": {},
   "source": [
    "now we can see positive or negative as an output instead of the sentiment scores. "
   ]
  },
  {
   "cell_type": "code",
   "execution_count": null,
   "id": "ab077a7b",
   "metadata": {},
   "outputs": [],
   "source": []
  }
 ],
 "metadata": {
  "kernelspec": {
   "display_name": "Python 3 (ipykernel)",
   "language": "python",
   "name": "python3"
  },
  "language_info": {
   "codemirror_mode": {
    "name": "ipython",
    "version": 3
   },
   "file_extension": ".py",
   "mimetype": "text/x-python",
   "name": "python",
   "nbconvert_exporter": "python",
   "pygments_lexer": "ipython3",
   "version": "3.11.3"
  }
 },
 "nbformat": 4,
 "nbformat_minor": 5
}
