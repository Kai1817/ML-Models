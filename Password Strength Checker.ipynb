{
 "cells": [
  {
   "cell_type": "markdown",
   "id": "f148caca",
   "metadata": {},
   "source": [
    "## PASSWORD STRENGTH CHECKER"
   ]
  },
  {
   "cell_type": "markdown",
   "id": "318a767f",
   "metadata": {},
   "source": [
    "To create an **application to check the strength of passwords**, we need to have a labelled dataset about different combinations of letters and symbols. I found a dataset on Kaggle to train a machine learning model to predict the strength of a password."
   ]
  },
  {
   "cell_type": "code",
   "execution_count": 1,
   "id": "7789a41a",
   "metadata": {},
   "outputs": [
    {
     "data": {
      "text/html": [
       "<div>\n",
       "<style scoped>\n",
       "    .dataframe tbody tr th:only-of-type {\n",
       "        vertical-align: middle;\n",
       "    }\n",
       "\n",
       "    .dataframe tbody tr th {\n",
       "        vertical-align: top;\n",
       "    }\n",
       "\n",
       "    .dataframe thead th {\n",
       "        text-align: right;\n",
       "    }\n",
       "</style>\n",
       "<table border=\"1\" class=\"dataframe\">\n",
       "  <thead>\n",
       "    <tr style=\"text-align: right;\">\n",
       "      <th></th>\n",
       "      <th>password</th>\n",
       "      <th>strength</th>\n",
       "    </tr>\n",
       "  </thead>\n",
       "  <tbody>\n",
       "    <tr>\n",
       "      <th>0</th>\n",
       "      <td>kzde5577</td>\n",
       "      <td>1</td>\n",
       "    </tr>\n",
       "    <tr>\n",
       "      <th>1</th>\n",
       "      <td>kino3434</td>\n",
       "      <td>1</td>\n",
       "    </tr>\n",
       "    <tr>\n",
       "      <th>2</th>\n",
       "      <td>visi7k1yr</td>\n",
       "      <td>1</td>\n",
       "    </tr>\n",
       "    <tr>\n",
       "      <th>3</th>\n",
       "      <td>megzy123</td>\n",
       "      <td>1</td>\n",
       "    </tr>\n",
       "    <tr>\n",
       "      <th>4</th>\n",
       "      <td>lamborghin1</td>\n",
       "      <td>1</td>\n",
       "    </tr>\n",
       "  </tbody>\n",
       "</table>\n",
       "</div>"
      ],
      "text/plain": [
       "      password strength\n",
       "0     kzde5577        1\n",
       "1     kino3434        1\n",
       "2    visi7k1yr        1\n",
       "3     megzy123        1\n",
       "4  lamborghin1        1"
      ]
     },
     "execution_count": 1,
     "metadata": {},
     "output_type": "execute_result"
    }
   ],
   "source": [
    "import warnings\n",
    "warnings.filterwarnings('ignore')\n",
    "import pandas as pd\n",
    "import numpy as np\n",
    "from sklearn.feature_extraction.text import CountVectorizer\n",
    "from sklearn.feature_extraction.text import TfidfVectorizer\n",
    "from sklearn.model_selection import train_test_split\n",
    "from sklearn.ensemble import RandomForestClassifier\n",
    "\n",
    "data = pd.read_csv(\"C:/Users/asus/OneDrive/Desktop/ML_Datasets/project/Ml_models/data.csv\")\n",
    "data.head()"
   ]
  },
  {
   "cell_type": "markdown",
   "id": "2f0d3d11",
   "metadata": {},
   "source": [
    "#### Data Cleaning"
   ]
  },
  {
   "cell_type": "code",
   "execution_count": 2,
   "id": "8a9a3b28",
   "metadata": {},
   "outputs": [
    {
     "data": {
      "text/plain": [
       "array(['1', '2', '0', 'anakonda_252@hotmail.com', 'destek@migmedya.com',\n",
       "       'elitebank44@gmail.com', 'memleketim.info@gmail.com',\n",
       "       'canersastim@gmail.com', 'arifselim.ask@gmail.com',\n",
       "       'octoberwind@mynet.com', 'sado_370@hotmail.com',\n",
       "       'djexploit@gmail.com', 'bursabursa2@hotmail.com',\n",
       "       'info@kayimoglu.com', 'drselimcelik@gmail.com',\n",
       "       'bykudelfa@hotmail.com', 'kralkotsk@mynet.com',\n",
       "       'mnyk12@hotmail.com', 'elitebilgisayar26@gmail.com',\n",
       "       'elumre@gmail.com', 'selim.ozmen07@hotmail.com',\n",
       "       'selimkaratas@windowslive.com', 'crazy_boeing@yahoo.com',\n",
       "       'imkbticaretmeslek@gmail.com', 'mrcds.grmnt@yahoo.com',\n",
       "       'mert_kaya09@hotmail.com', 'beratmisimi1@gmail.com',\n",
       "       'cousto@live.com', 'boystreet04@gmail.com',\n",
       "       'hackerbbqueen15@hotmail.com', 'brkyc3@hotmail.com',\n",
       "       'bursa322@hotmail.com', 'selimcebecioglu@gmail.com',\n",
       "       'ooyrwdiovouxa@hotmail.com', 'antit0xin@hotmail.com',\n",
       "       'kaderimse.net@hotmail.com', 'cnraktas@hotmail.com',\n",
       "       'kerem_3435@hotmail.com', 'selim2@live.nl',\n",
       "       'selimakyol000@hotmail.com', 'selimiu14@gmail.com',\n",
       "       'selimest1@yahoo.fr', 'sd66@live.com', 'bykudelfa@windowslive.com',\n",
       "       'mogol_1994@hotmail.com', 'ayakseven@gmail.com',\n",
       "       'selimiii91@googlemail.com', 'asassa.asdsadsads@mail.ru',\n",
       "       'byscg@live.com', 'igoubane@gmail.com', 'kudigaf-59@hotmail.com',\n",
       "       'okanfidan.5@hotmail.com', 'cs.bossy@hotmail.com',\n",
       "       'gavur55@gmail.com', 'ckrguzel61@hotmail.com',\n",
       "       'emre_talha_erim@hotmail.com', 'fatal09@live.de',\n",
       "       'selim93dz@gmail.com', 'aspiranko@gmail.com',\n",
       "       'manisagfb@windowslive.com', 'freezoneworld@gmail.com',\n",
       "       'dakikaoyun1@hotmail.com', 'aselimulkatan@windowslive.com',\n",
       "       'platonik.ask1@hotmail.com.tr', 'bio-nick@hotmail.com',\n",
       "       'samyeli25@mynet.com', 'selim.samli1@hotmail.com.tr',\n",
       "       'kuyucu_selim@hotmail.com', 'mesajticaret@hotmail.com',\n",
       "       'cristiano_juega_10@hotmail.com', 'auetetee@narod.ru',\n",
       "       'haylaz_1453@hotmail.com', 'selim_tek1@hotmail.com',\n",
       "       'kralaidcop@gmail.com', 'melchazli@gmail.com',\n",
       "       'metaren@yandex.com', 'axiselo@hotmail.com',\n",
       "       'jakuzen.57@hotmail.com', 'by.social@hotmail.com',\n",
       "       'selimjel@icloud.com', 'escortcu34@gmail.com',\n",
       "       'iletisim@selimaltin.com', 'demir_06_68@hotmail.com',\n",
       "       'bychatlak_66@hotmail.com', 'selim1@live.be',\n",
       "       'dyinglast@outlook.com', 'korhaydut_38@hotmail.com',\n",
       "       'mt2_shorty@hotmail.com', 'bykudelfa2@hotmail.com',\n",
       "       'contemp99@gmail.com', 'mehmeteminyakit@tnctr.com',\n",
       "       'sakaryam5454@yandex.com.tr', 'boskartus@hotmail.com',\n",
       "       'dumanselim52@gmail.com', 'selimmsn@msn.com',\n",
       "       'derko_42@hotmail.com', 'selimb300@gmail.com',\n",
       "       'selimakyuz@gmail.com', 'selimaliqkaj5@gmail.com',\n",
       "       'karsidag@hotmail.com', 'cellymmm@hotmail.com', 'selim199@abv.bg',\n",
       "       'brain_storm_92@hotmail.com', 'groteselim@msn.com',\n",
       "       'avci.selim@gmail.com', 'genc_fb.56@hotmail.com',\n",
       "       'gencosman_2006@hotmail.com', 'hackershift@gmail.com',\n",
       "       'begum_akdogan_33@hotmail.com', 'eskortcu@hotmail.com',\n",
       "       'selim.chergui@hotmail.com', 'odmosegtnss@ovi.com',\n",
       "       'alpha_omeg@rocketmail.com', 'derdan0707@gmail.com',\n",
       "       's.selimerdem@hotmail.com', 'atac.selim@gmail.com',\n",
       "       'keepifreal@hotmail.com', 'deren8120012@hotmail.com',\n",
       "       'iletisim@oderece.net', 'carizma_cocuk1987@hotmail.com',\n",
       "       'bursabursa123321@hotmail.com', 'remselim@gmail.com',\n",
       "       'dummandumman@hotmail.com', 'ezgikutlu_06@hotmail.com',\n",
       "       'sahinemlak59@gmail.com', 'selim_cz@hotmail.com',\n",
       "       'selimkirazliogli@hotmail.com', 'csprosunucum@hotmail.com',\n",
       "       'lostlover662@gmail.com', 'my.dimpls@hotmail.com',\n",
       "       'kikushi@live.com', 'hi.selimreza@gmail.com',\n",
       "       'psiko_child@hotmail.com', 'limmy007@live.com',\n",
       "       'kalkal223@hotmail.com', 'sametselim44@gmail.com',\n",
       "       'sel34443@gmail.com', 'durdedimulen@hotmail.com',\n",
       "       'hackershift@live.com', 'komofti34@gmail.com',\n",
       "       'by_firari_019@hotmail.com', 'johirali08@gmail.com',\n",
       "       'real_crayz@hotmail.com', 'buzzy_speaker@hotmail.com',\n",
       "       'ice.nova@hotmail.com', 'karaselim.colakoglu@gmail.com',\n",
       "       'gs_li_selo@hotmail.com', 'selimgabsi@yahoo.fr',\n",
       "       'free.gta5@gmail.com', 'selimgs@mynet.com', 'bursa223@hotmail.com',\n",
       "       'ftp42@gmx.net', 'hayat.yalan.beimgibi@hotmail.com',\n",
       "       'selim.cancan1@hotmail.com', 'basogluselim@yahoo.com',\n",
       "       'contempt99@gmail.com', 'expro_sc@hotmail.com',\n",
       "       'selimdamar63@gmail.com', 'developpeurwebsite@gmail.com',\n",
       "       'selim.samli038@hotmail.com', 'kaankarayel_2012@hotmail.com',\n",
       "       'redcap12@yahoo.com', 'faceboookinfo@gmail.com', 'fatal08@live.de',\n",
       "       'demente_selim@hotmail.com', 's.k11@laposte.net',\n",
       "       'selimcebesoy@gmail.com', 'selimkoylahisarli@live.com',\n",
       "       'selimkahya@gmail.com', 'byensel01@hotmail.com',\n",
       "       'kanli007@hotmail.com', 'enucuzdugun@hotmail.fr',\n",
       "       'beylikovajumla@mynet.com', 'faakeadres123@hotmail.com',\n",
       "       'andarmastana@gmail.com', 'frozen2245@gmail.com',\n",
       "       'selim_samli1@hotmail.com', 'facebookselim1@hotmail.com',\n",
       "       'mimou_939@hotmail.fr', 'elyomeric@hotmail.com',\n",
       "       'facebookselim2@hotmail.com', 'haylaz_1997@hotmail.com',\n",
       "       'selim07_fenerium@hotmail.com', 'korganradyo@hotmail.com',\n",
       "       'selim880@rambler.ru', 'mhpboy@hotmail.com', 'byselm34@gmail.com',\n",
       "       'kutlu514@hotmail.com', 'gamesliga@hotmail.com',\n",
       "       'janssensselim@gmail.com', 'benimsitem@yahoo.com',\n",
       "       'esesanahtar@hotmail.com', 'ikikeredusun@gmail.com',\n",
       "       'metin2pvp69@hotmail.com', 'kartallimt2@hotmail.com',\n",
       "       'evinkirosu@hotmail.com', 'besiktaskim@hotmail.com',\n",
       "       'cybervadi@hotmail.co.uk', 'selim_sarikaya42@hotmail.com',\n",
       "       'firar50@hotmail.com', 'cengiz_metin35@hotmail.com',\n",
       "       'balik_muhammedali665@hotmail.com', 'codeslm.dark@yahoo.com',\n",
       "       'anime.evi@hotmail.com', 'kartanesi.selim@gmail.com',\n",
       "       'eskisehirsite@mynet.com', 'bilgisayarbilisimonline@mynet.com',\n",
       "       'antifb@gmail.com', 'barborosselim@gmail.com',\n",
       "       'selimkuyucu1@hotmail.com', 'ibrahimsakhta1@gmail.com',\n",
       "       'selimdg@hotmail.com', 'selimerdogan29@gmail.com',\n",
       "       'hasel_4458@hotmail.com', 'black_line63@hotmail.com',\n",
       "       'delibeyazim_18@hotmail.com', 'armin_lokvancic@hotmail.com',\n",
       "       'selimmsenturkk@hotmail.com', 'hacsel.erdem@gmail.com',\n",
       "       'dj_gezegen_90@hotmail.com', 'msinan2008@hotmail.de',\n",
       "       'selim_sari@hotmail.com', 'karamsar_87@yahoo.com',\n",
       "       'seckinsitesi@mynet.com', 'kralrock@msn.com',\n",
       "       'pokemon924@live.com', 'selim_mir@hotmail.com',\n",
       "       'bgselim1993@gmail.com', 'info@live35.net',\n",
       "       'cimbom_cadde@hotmail.com', 'hajriz.balkansunflowers@gmail.com',\n",
       "       'f4rr3ll26@gmail.com', 'deltoiddesign@hotmail.com',\n",
       "       'efsane.mardinli@gmail.com'], dtype=object)"
      ]
     },
     "execution_count": 2,
     "metadata": {},
     "output_type": "execute_result"
    }
   ],
   "source": [
    "data.strength.unique()"
   ]
  },
  {
   "cell_type": "code",
   "execution_count": 3,
   "id": "2230182b",
   "metadata": {},
   "outputs": [
    {
     "data": {
      "text/plain": [
       "array(['1', '2', '0', 'destek@migmedya.com', 'info@kayimoglu.com',\n",
       "       'selimkaratas@windowslive.com', 'crazy_boeing@yahoo.com',\n",
       "       'mrcds.grmnt@yahoo.com', 'cousto@live.com', 'selim2@live.nl',\n",
       "       'selimest1@yahoo.fr', 'sd66@live.com', 'bykudelfa@windowslive.com',\n",
       "       'selimiii91@googlemail.com', 'asassa.asdsadsads@mail.ru',\n",
       "       'byscg@live.com', 'fatal09@live.de', 'manisagfb@windowslive.com',\n",
       "       'aselimulkatan@windowslive.com', 'auetetee@narod.ru',\n",
       "       'metaren@yandex.com', 'selimjel@icloud.com',\n",
       "       'iletisim@selimaltin.com', 'selim1@live.be',\n",
       "       'dyinglast@outlook.com', 'mehmeteminyakit@tnctr.com',\n",
       "       'sakaryam5454@yandex.com.tr', 'selimmsn@msn.com',\n",
       "       'selim199@abv.bg', 'groteselim@msn.com', 'odmosegtnss@ovi.com',\n",
       "       'alpha_omeg@rocketmail.com', 'iletisim@oderece.net',\n",
       "       'kikushi@live.com', 'limmy007@live.com', 'hackershift@live.com',\n",
       "       'selimgabsi@yahoo.fr', 'ftp42@gmx.net', 'basogluselim@yahoo.com',\n",
       "       'redcap12@yahoo.com', 'fatal08@live.de', 's.k11@laposte.net',\n",
       "       'selimkoylahisarli@live.com', 'enucuzdugun@hotmail.fr',\n",
       "       'mimou_939@hotmail.fr', 'selim880@rambler.ru',\n",
       "       'benimsitem@yahoo.com', 'cybervadi@hotmail.co.uk',\n",
       "       'codeslm.dark@yahoo.com', 'msinan2008@hotmail.de',\n",
       "       'karamsar_87@yahoo.com', 'kralrock@msn.com', 'pokemon924@live.com',\n",
       "       'info@live35.net'], dtype=object)"
      ]
     },
     "execution_count": 3,
     "metadata": {},
     "output_type": "execute_result"
    }
   ],
   "source": [
    "#Replace values based on condition 0,1 and 2 as password strength\n",
    "data.loc[data['strength'].str.contains('@gmail.com'), 'strength'] = '0'\n",
    "data.loc[data['strength'].str.contains('@hotmail.com'), 'strength'] = '1'\n",
    "data.loc[data['strength'].str.contains('@mynet.com'), 'strength'] = '2'\n",
    "data.strength.unique()"
   ]
  },
  {
   "cell_type": "markdown",
   "id": "8f4f0366",
   "metadata": {},
   "source": [
    "- Considering data with values 0,1 and 2 only."
   ]
  },
  {
   "cell_type": "code",
   "execution_count": 4,
   "id": "3878c22e",
   "metadata": {},
   "outputs": [
    {
     "data": {
      "text/html": [
       "<div>\n",
       "<style scoped>\n",
       "    .dataframe tbody tr th:only-of-type {\n",
       "        vertical-align: middle;\n",
       "    }\n",
       "\n",
       "    .dataframe tbody tr th {\n",
       "        vertical-align: top;\n",
       "    }\n",
       "\n",
       "    .dataframe thead th {\n",
       "        text-align: right;\n",
       "    }\n",
       "</style>\n",
       "<table border=\"1\" class=\"dataframe\">\n",
       "  <thead>\n",
       "    <tr style=\"text-align: right;\">\n",
       "      <th></th>\n",
       "      <th>password</th>\n",
       "      <th>strength</th>\n",
       "    </tr>\n",
       "  </thead>\n",
       "  <tbody>\n",
       "    <tr>\n",
       "      <th>0</th>\n",
       "      <td>kzde5577</td>\n",
       "      <td>1</td>\n",
       "    </tr>\n",
       "    <tr>\n",
       "      <th>1</th>\n",
       "      <td>kino3434</td>\n",
       "      <td>1</td>\n",
       "    </tr>\n",
       "    <tr>\n",
       "      <th>2</th>\n",
       "      <td>visi7k1yr</td>\n",
       "      <td>1</td>\n",
       "    </tr>\n",
       "    <tr>\n",
       "      <th>3</th>\n",
       "      <td>megzy123</td>\n",
       "      <td>1</td>\n",
       "    </tr>\n",
       "    <tr>\n",
       "      <th>4</th>\n",
       "      <td>lamborghin1</td>\n",
       "      <td>1</td>\n",
       "    </tr>\n",
       "    <tr>\n",
       "      <th>...</th>\n",
       "      <td>...</td>\n",
       "      <td>...</td>\n",
       "    </tr>\n",
       "    <tr>\n",
       "      <th>669823</th>\n",
       "      <td>10redtux10</td>\n",
       "      <td>1</td>\n",
       "    </tr>\n",
       "    <tr>\n",
       "      <th>669824</th>\n",
       "      <td>infrared1</td>\n",
       "      <td>1</td>\n",
       "    </tr>\n",
       "    <tr>\n",
       "      <th>669825</th>\n",
       "      <td>184520socram</td>\n",
       "      <td>1</td>\n",
       "    </tr>\n",
       "    <tr>\n",
       "      <th>669826</th>\n",
       "      <td>marken22a</td>\n",
       "      <td>1</td>\n",
       "    </tr>\n",
       "    <tr>\n",
       "      <th>669827</th>\n",
       "      <td>fxx4pw4g</td>\n",
       "      <td>1</td>\n",
       "    </tr>\n",
       "  </tbody>\n",
       "</table>\n",
       "<p>669828 rows × 2 columns</p>\n",
       "</div>"
      ],
      "text/plain": [
       "            password strength\n",
       "0           kzde5577        1\n",
       "1           kino3434        1\n",
       "2          visi7k1yr        1\n",
       "3           megzy123        1\n",
       "4        lamborghin1        1\n",
       "...              ...      ...\n",
       "669823    10redtux10        1\n",
       "669824     infrared1        1\n",
       "669825  184520socram        1\n",
       "669826     marken22a        1\n",
       "669827      fxx4pw4g        1\n",
       "\n",
       "[669828 rows x 2 columns]"
      ]
     },
     "execution_count": 4,
     "metadata": {},
     "output_type": "execute_result"
    }
   ],
   "source": [
    "valid_values = ['0', '1', '2']\n",
    "df = data[data['strength'].isin(valid_values)]\n",
    "df = df.reset_index(drop=True)\n",
    "df"
   ]
  },
  {
   "cell_type": "code",
   "execution_count": 5,
   "id": "1ec7940c",
   "metadata": {},
   "outputs": [
    {
     "name": "stdout",
     "output_type": "stream",
     "text": [
      "<class 'pandas.core.frame.DataFrame'>\n",
      "RangeIndex: 669828 entries, 0 to 669827\n",
      "Data columns (total 2 columns):\n",
      " #   Column    Non-Null Count   Dtype \n",
      "---  ------    --------------   ----- \n",
      " 0   password  669827 non-null  object\n",
      " 1   strength  669828 non-null  object\n",
      "dtypes: object(2)\n",
      "memory usage: 10.2+ MB\n"
     ]
    }
   ],
   "source": [
    "df.info()"
   ]
  },
  {
   "cell_type": "code",
   "execution_count": 6,
   "id": "9d36b6e5",
   "metadata": {},
   "outputs": [
    {
     "data": {
      "text/html": [
       "<div>\n",
       "<style scoped>\n",
       "    .dataframe tbody tr th:only-of-type {\n",
       "        vertical-align: middle;\n",
       "    }\n",
       "\n",
       "    .dataframe tbody tr th {\n",
       "        vertical-align: top;\n",
       "    }\n",
       "\n",
       "    .dataframe thead th {\n",
       "        text-align: right;\n",
       "    }\n",
       "</style>\n",
       "<table border=\"1\" class=\"dataframe\">\n",
       "  <thead>\n",
       "    <tr style=\"text-align: right;\">\n",
       "      <th></th>\n",
       "      <th>password</th>\n",
       "      <th>strength</th>\n",
       "    </tr>\n",
       "  </thead>\n",
       "  <tbody>\n",
       "    <tr>\n",
       "      <th>367686</th>\n",
       "      <td>NaN</td>\n",
       "      <td>0</td>\n",
       "    </tr>\n",
       "  </tbody>\n",
       "</table>\n",
       "</div>"
      ],
      "text/plain": [
       "       password strength\n",
       "367686      NaN        0"
      ]
     },
     "execution_count": 6,
     "metadata": {},
     "output_type": "execute_result"
    }
   ],
   "source": [
    "x = df.isnull().any(axis =1)\n",
    "df[x]"
   ]
  },
  {
   "cell_type": "code",
   "execution_count": 7,
   "id": "e881971d",
   "metadata": {},
   "outputs": [
    {
     "name": "stdout",
     "output_type": "stream",
     "text": [
      "<class 'pandas.core.frame.DataFrame'>\n",
      "RangeIndex: 669828 entries, 0 to 669827\n",
      "Data columns (total 2 columns):\n",
      " #   Column    Non-Null Count   Dtype \n",
      "---  ------    --------------   ----- \n",
      " 0   password  669828 non-null  object\n",
      " 1   strength  669828 non-null  object\n",
      "dtypes: object(2)\n",
      "memory usage: 10.2+ MB\n"
     ]
    }
   ],
   "source": [
    "df['password'].fillna('ktyilop12@34#', inplace=True)\n",
    "df.info()"
   ]
  },
  {
   "cell_type": "code",
   "execution_count": 8,
   "id": "45f41557",
   "metadata": {},
   "outputs": [
    {
     "data": {
      "text/plain": [
       "array(['1', '2', '0'], dtype=object)"
      ]
     },
     "execution_count": 8,
     "metadata": {},
     "output_type": "execute_result"
    }
   ],
   "source": [
    "df['strength'].unique()"
   ]
  },
  {
   "cell_type": "markdown",
   "id": "eb325c3c",
   "metadata": {},
   "source": [
    "The dataset has two columns; password and strength. In the strength column:\n",
    "\n",
    "- 0 means: the password’s strength is weak,\n",
    "  1 means: the password’s strength is medium,\n",
    "  2 means: the password’s strength is strong,\n",
    "\n",
    "Before moving forward, I will convert 0, 1, and 2 values in the strength column to weak, medium, and strong."
   ]
  },
  {
   "cell_type": "markdown",
   "id": "3ccc956e",
   "metadata": {},
   "source": [
    "#### Mapping and Preprocessing"
   ]
  },
  {
   "cell_type": "code",
   "execution_count": 9,
   "id": "3800246d",
   "metadata": {},
   "outputs": [],
   "source": [
    "df[[\"strength\"]]=df[[\"strength\"]].astype(float)"
   ]
  },
  {
   "cell_type": "code",
   "execution_count": 10,
   "id": "6b4d03a7",
   "metadata": {},
   "outputs": [
    {
     "data": {
      "text/html": [
       "<div>\n",
       "<style scoped>\n",
       "    .dataframe tbody tr th:only-of-type {\n",
       "        vertical-align: middle;\n",
       "    }\n",
       "\n",
       "    .dataframe tbody tr th {\n",
       "        vertical-align: top;\n",
       "    }\n",
       "\n",
       "    .dataframe thead th {\n",
       "        text-align: right;\n",
       "    }\n",
       "</style>\n",
       "<table border=\"1\" class=\"dataframe\">\n",
       "  <thead>\n",
       "    <tr style=\"text-align: right;\">\n",
       "      <th></th>\n",
       "      <th>password</th>\n",
       "      <th>strength</th>\n",
       "    </tr>\n",
       "  </thead>\n",
       "  <tbody>\n",
       "    <tr>\n",
       "      <th>0</th>\n",
       "      <td>kzde5577</td>\n",
       "      <td>Medium</td>\n",
       "    </tr>\n",
       "    <tr>\n",
       "      <th>1</th>\n",
       "      <td>kino3434</td>\n",
       "      <td>Medium</td>\n",
       "    </tr>\n",
       "    <tr>\n",
       "      <th>2</th>\n",
       "      <td>visi7k1yr</td>\n",
       "      <td>Medium</td>\n",
       "    </tr>\n",
       "    <tr>\n",
       "      <th>3</th>\n",
       "      <td>megzy123</td>\n",
       "      <td>Medium</td>\n",
       "    </tr>\n",
       "    <tr>\n",
       "      <th>4</th>\n",
       "      <td>lamborghin1</td>\n",
       "      <td>Medium</td>\n",
       "    </tr>\n",
       "  </tbody>\n",
       "</table>\n",
       "</div>"
      ],
      "text/plain": [
       "      password strength\n",
       "0     kzde5577   Medium\n",
       "1     kino3434   Medium\n",
       "2    visi7k1yr   Medium\n",
       "3     megzy123   Medium\n",
       "4  lamborghin1   Medium"
      ]
     },
     "execution_count": 10,
     "metadata": {},
     "output_type": "execute_result"
    }
   ],
   "source": [
    "df[\"strength\"] = df[\"strength\"].map({0: \"Weak\", 1: \"Medium\",2: \"Strong\"})\n",
    "df.head()"
   ]
  },
  {
   "cell_type": "markdown",
   "id": "1b64a480",
   "metadata": {},
   "source": [
    "Let’s move to train a machine learning model to predict the strength of the password. Before we start preparing the model, we need to tokenize the passwords as we need the model to learn from the combinations of digits, letters, and symbols to predict the password’s strength. So here’s how we can tokenize and split the data into training and test sets."
   ]
  },
  {
   "cell_type": "code",
   "execution_count": 11,
   "id": "d9c537d4",
   "metadata": {},
   "outputs": [],
   "source": [
    "def word(password):\n",
    "    character=[]\n",
    "    for i in password:\n",
    "        character.append(i)\n",
    "    return character\n",
    "  \n",
    "x1 = np.array(df[\"password\"])\n",
    "y = np.array(df[\"strength\"])\n",
    "\n",
    "tdif = TfidfVectorizer(tokenizer=word)\n",
    "x = tdif.fit_transform(x1)\n",
    "X_train, X_test, y_train, y_test = train_test_split(x, y, test_size=0.05,random_state=42)"
   ]
  },
  {
   "cell_type": "code",
   "execution_count": 12,
   "id": "2777f28f",
   "metadata": {},
   "outputs": [
    {
     "data": {
      "text/plain": [
       "0.9400155260957841"
      ]
     },
     "execution_count": 12,
     "metadata": {},
     "output_type": "execute_result"
    }
   ],
   "source": [
    "model = RandomForestClassifier(n_estimators=10 , criterion ='entropy' ,random_state = 0)\n",
    "model.fit(X_train, y_train)\n",
    "model.score(X_test, y_test)"
   ]
  },
  {
   "cell_type": "code",
   "execution_count": 13,
   "id": "a5a2fc1b",
   "metadata": {},
   "outputs": [
    {
     "name": "stdout",
     "output_type": "stream",
     "text": [
      "              precision    recall  f1-score   support\n",
      "\n",
      "      Medium       0.94      0.99      0.96     24776\n",
      "      Strong       0.97      0.87      0.91      4087\n",
      "        Weak       0.95      0.75      0.84      4629\n",
      "\n",
      "    accuracy                           0.94     33492\n",
      "   macro avg       0.95      0.87      0.90     33492\n",
      "weighted avg       0.94      0.94      0.94     33492\n",
      "\n"
     ]
    }
   ],
   "source": [
    "y_pred = model.predict(X_test)\n",
    "\n",
    "from sklearn.metrics import classification_report\n",
    "print(classification_report(y_test,y_pred))"
   ]
  },
  {
   "cell_type": "code",
   "execution_count": 14,
   "id": "3c33ae7b",
   "metadata": {},
   "outputs": [
    {
     "name": "stdout",
     "output_type": "stream",
     "text": [
      "Enter Password: ········\n",
      "['Medium']\n"
     ]
    }
   ],
   "source": [
    "import getpass\n",
    "user = getpass.getpass(\"Enter Password: \")\n",
    "data = tdif.transform([user]).toarray()\n",
    "output = model.predict(data)\n",
    "print(output)"
   ]
  },
  {
   "cell_type": "markdown",
   "id": "137759b8",
   "metadata": {},
   "source": [
    "#### Conclusion"
   ]
  },
  {
   "cell_type": "markdown",
   "id": "c8588c53",
   "metadata": {},
   "source": [
    "This is how you can use machine learning to create a password’s strength checker using the Python programming language. A password strength checker works by understanding the combination of digits, letters, and special symbols you use in your password. "
   ]
  },
  {
   "cell_type": "code",
   "execution_count": null,
   "id": "a89a9da4",
   "metadata": {},
   "outputs": [],
   "source": []
  }
 ],
 "metadata": {
  "kernelspec": {
   "display_name": "Python 3 (ipykernel)",
   "language": "python",
   "name": "python3"
  },
  "language_info": {
   "codemirror_mode": {
    "name": "ipython",
    "version": 3
   },
   "file_extension": ".py",
   "mimetype": "text/x-python",
   "name": "python",
   "nbconvert_exporter": "python",
   "pygments_lexer": "ipython3",
   "version": "3.11.3"
  }
 },
 "nbformat": 4,
 "nbformat_minor": 5
}
